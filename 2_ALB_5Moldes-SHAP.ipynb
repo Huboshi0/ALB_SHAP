{
 "cells": [
  {
   "cell_type": "markdown",
   "metadata": {
    "colab_type": "text",
    "id": "nTdUHlmOTzqS"
   },
   "source": [
    "# Steps Involved : Data Exploration, Model Fitting, Permutation Importance, SHAP"
   ]
  },
  {
   "cell_type": "markdown",
   "metadata": {},
   "source": [
    "Created by Hu GUO"
   ]
  },
  {
   "cell_type": "markdown",
   "metadata": {
    "colab_type": "text",
    "id": "shGUCaYcTzqX"
   },
   "source": [
    "# Data Exploration"
   ]
  },
  {
   "cell_type": "code",
   "execution_count": 2,
   "metadata": {
    "colab": {},
    "colab_type": "code",
    "id": "M3xisLC_Tzqc",
    "outputId": "e700195e-d19e-458d-f631-939b7cf24964",
    "scrolled": true
   },
   "outputs": [],
   "source": [
    "%matplotlib inline\n",
    "import pandas as pd\n",
    "import numpy as np\n",
    "import matplotlib.pyplot as plt\n",
    "from sklearn import preprocessing\n",
    "from sklearn.linear_model import LogisticRegression\n",
    "from sklearn.model_selection import train_test_split\n",
    "# import seaborn as sns\n",
    "# sns.set(style=\"white\")\n",
    "# sns.set(style=\"whitegrid\", color_codes=True)"
   ]
  },
  {
   "cell_type": "code",
   "execution_count": null,
   "metadata": {
    "scrolled": true
   },
   "outputs": [],
   "source": [
    "data_feature = pd.read_csv('./data_features.csv')\n",
    "features = list(data_feature.columns.values)\n",
    "features.remove('D350')\n",
    "features.remove('D400')\n",
    "features.remove('D450')\n",
    "features.remove('T300')\n",
    "features.remove('S400')\n",
    "features\n",
    "\n",
    "# data1.head()"
   ]
  },
  {
   "cell_type": "code",
   "execution_count": null,
   "metadata": {
    "colab": {},
    "colab_type": "code",
    "id": "905_F1uHTzqt",
    "outputId": "68eea354-0c49-49dd-d2cc-dd4ebc40dce3"
   },
   "outputs": [],
   "source": [
    "data1 = pd.read_csv('./BZH2-VIF.csv')\n",
    "data=data1.loc[:, 'Class':'S300']\n",
    "# data.head()\n",
    "list(data.columns.values)"
   ]
  },
  {
   "cell_type": "code",
   "execution_count": null,
   "metadata": {
    "colab": {},
    "colab_type": "code",
    "id": "XmPTcUZyTzq3",
    "outputId": "fb918a60-1c14-423c-f8dd-36f453d1e543"
   },
   "outputs": [],
   "source": [
    "print(data.shape)"
   ]
  },
  {
   "cell_type": "markdown",
   "metadata": {},
   "source": [
    "## Train_Test_Split"
   ]
  },
  {
   "cell_type": "code",
   "execution_count": null,
   "metadata": {
    "colab": {},
    "colab_type": "code",
    "id": "KbX47FMPTztE",
    "outputId": "d3df6be1-0fb4-4dbe-8012-30a17fd8de20"
   },
   "outputs": [],
   "source": [
    "X = data.loc[:, data.columns != 'Class']\n",
    "y=data['Class']\n",
    "# X.head()"
   ]
  },
  {
   "cell_type": "markdown",
   "metadata": {
    "colab_type": "text",
    "id": "366LZyd_TztP"
   },
   "source": [
    "##### Spliiting the data into training and test sets"
   ]
  },
  {
   "cell_type": "code",
   "execution_count": null,
   "metadata": {
    "colab": {},
    "colab_type": "code",
    "id": "LIiqbZMBTztQ",
    "outputId": "6f92e63c-d75b-4a95-b544-b80fb640a171"
   },
   "outputs": [],
   "source": [
    "# y.head()"
   ]
  },
  {
   "cell_type": "code",
   "execution_count": null,
   "metadata": {
    "colab": {},
    "colab_type": "code",
    "id": "uOuPU1J8TztY"
   },
   "outputs": [],
   "source": [
    "from sklearn.model_selection import train_test_split\n",
    "\n",
    "X_train, X_test, y_train, y_test = train_test_split(X, y, test_size=0.2, random_state=25)\n",
    "\n",
    "# from sklearn.preprocessing import MinMaxScaler\n",
    "# scaler = MinMaxScaler()\n",
    "# X_train = scaler.fit_transform(X_train)\n",
    "# X_test = scaler.transform(X_test)"
   ]
  },
  {
   "cell_type": "markdown",
   "metadata": {
    "colab_type": "text",
    "id": "f-fFPc4oTztc"
   },
   "source": [
    "## Naive Bayes techique"
   ]
  },
  {
   "cell_type": "code",
   "execution_count": null,
   "metadata": {
    "colab": {},
    "colab_type": "code",
    "id": "iPMjAj4-Tztc",
    "outputId": "10ae5a9d-54cc-4a68-a9f3-73df5c692587"
   },
   "outputs": [],
   "source": [
    "from sklearn.naive_bayes import GaussianNB\n",
    "\n",
    "gnb = GaussianNB()\n",
    "gnb.fit(X_train, y_train)\n",
    "print('Accuracy of GNB classifier on training set: {:.4f}'\n",
    "     .format(gnb.score(X_train, y_train)))\n",
    "print('Accuracy of GNB classifier on test set: {:.4f}'\n",
    "     .format(gnb.score(X_test, y_test)))"
   ]
  },
  {
   "cell_type": "markdown",
   "metadata": {
    "colab_type": "text",
    "id": "KTsXp13vTztg"
   },
   "source": [
    "Confusion Matrix of training set"
   ]
  },
  {
   "cell_type": "code",
   "execution_count": null,
   "metadata": {
    "colab": {},
    "colab_type": "code",
    "id": "k-0G6SE7Tzth",
    "outputId": "6c626eb9-a555-4a2b-d372-38c2e05edca3"
   },
   "outputs": [],
   "source": [
    "y_pred_train = gnb.predict(X_train)\n",
    "from sklearn.metrics import confusion_matrix\n",
    "confusion_matrix = confusion_matrix(y_train, y_pred_train)\n",
    "print(confusion_matrix)"
   ]
  },
  {
   "cell_type": "code",
   "execution_count": null,
   "metadata": {
    "colab": {},
    "colab_type": "code",
    "id": "0HtbDVi8Tzto",
    "outputId": "593ad5f5-2c90-413b-ed80-b6bd3ceda516"
   },
   "outputs": [],
   "source": [
    "from sklearn.metrics import classification_report\n",
    "print(classification_report(y_train, y_pred_train,digits=4, target_names=['High CPUE','Low CPUE']))"
   ]
  },
  {
   "cell_type": "markdown",
   "metadata": {
    "colab_type": "text",
    "id": "IyAogJmnTztt"
   },
   "source": [
    "Confusion Matrix of test set"
   ]
  },
  {
   "cell_type": "code",
   "execution_count": null,
   "metadata": {
    "colab": {},
    "colab_type": "code",
    "id": "RbbgiCbiTztu",
    "outputId": "ac8fdfae-343b-499e-b9f2-f0b19f2a9488"
   },
   "outputs": [],
   "source": [
    "y_pred = gnb.predict(X_test)\n",
    "from sklearn.metrics import confusion_matrix\n",
    "confusion_matrix = confusion_matrix(y_test, y_pred)\n",
    "print(confusion_matrix)"
   ]
  },
  {
   "cell_type": "code",
   "execution_count": null,
   "metadata": {
    "colab": {},
    "colab_type": "code",
    "id": "RTE2oDbMTztx",
    "outputId": "ea5ac5a4-0ad3-4ec0-de34-8b2a5143ed44"
   },
   "outputs": [],
   "source": [
    "from sklearn.metrics import classification_report\n",
    "print(classification_report(y_test, y_pred,digits=4, target_names=['High CPUE','Low CPUE']))"
   ]
  },
  {
   "cell_type": "markdown",
   "metadata": {
    "colab_type": "text",
    "id": "v3Kg1AZrTzt5"
   },
   "source": [
    "## K-Nearest neighbors"
   ]
  },
  {
   "cell_type": "code",
   "execution_count": null,
   "metadata": {
    "colab": {},
    "colab_type": "code",
    "id": "0tnXuEmzTzt6",
    "outputId": "79b65c9e-43d5-493b-8a2e-a47343b58665"
   },
   "outputs": [],
   "source": [
    "from sklearn.neighbors import KNeighborsClassifier\n",
    "\n",
    "knn = KNeighborsClassifier(n_neighbors=5)\n",
    "knn.fit(X_train, y_train)\n",
    "print('Accuracy of K-NN classifier on training set: {:.4f}'\n",
    "     .format(knn.score(X_train, y_train)))\n",
    "print('Accuracy of K-NN classifier on test set: {:.4f}'\n",
    "     .format(knn.score(X_test, y_test)))"
   ]
  },
  {
   "cell_type": "markdown",
   "metadata": {
    "colab_type": "text",
    "id": "29_0EemhTzuA"
   },
   "source": [
    "Confusion Matrix of training set"
   ]
  },
  {
   "cell_type": "code",
   "execution_count": null,
   "metadata": {
    "colab": {},
    "colab_type": "code",
    "id": "31rFd3wKTzuB",
    "outputId": "f6f18e56-5278-4cb7-b630-1c01fb97906b"
   },
   "outputs": [],
   "source": [
    "y_pred_train = knn.predict(X_train)\n",
    "from sklearn.metrics import confusion_matrix\n",
    "confusion_matrix = confusion_matrix(y_train, y_pred_train)\n",
    "print(confusion_matrix)"
   ]
  },
  {
   "cell_type": "code",
   "execution_count": null,
   "metadata": {
    "colab": {},
    "colab_type": "code",
    "id": "RehZDmFMTzuF",
    "outputId": "c623f37e-849b-4754-b6ab-cb1ec0b79ec4"
   },
   "outputs": [],
   "source": [
    "from sklearn.metrics import classification_report\n",
    "print(classification_report(y_train, y_pred_train,digits=4, target_names=['High CPUE','Low CPUE']))"
   ]
  },
  {
   "cell_type": "markdown",
   "metadata": {
    "colab_type": "text",
    "id": "PE_QYJQXTzuK"
   },
   "source": [
    "Confusion Matrix of test set"
   ]
  },
  {
   "cell_type": "code",
   "execution_count": null,
   "metadata": {
    "colab": {},
    "colab_type": "code",
    "id": "dZo3mv6QTzuM",
    "outputId": "0dfc2261-b314-4ef3-a24c-e01b82d613c1"
   },
   "outputs": [],
   "source": [
    "y_pred = knn.predict(X_test)\n",
    "from sklearn.metrics import confusion_matrix\n",
    "confusion_matrix = confusion_matrix(y_test, y_pred)\n",
    "print(confusion_matrix)"
   ]
  },
  {
   "cell_type": "code",
   "execution_count": null,
   "metadata": {
    "colab": {},
    "colab_type": "code",
    "id": "4x4Iin7gTzuO",
    "outputId": "3bbd5f90-38a0-4fa9-a931-85307ec284aa"
   },
   "outputs": [],
   "source": [
    "from sklearn.metrics import classification_report\n",
    "print(classification_report(y_test, y_pred,digits=4, target_names=['High CPUE','Low CPUE']))"
   ]
  },
  {
   "cell_type": "markdown",
   "metadata": {},
   "source": [
    "# LR"
   ]
  },
  {
   "cell_type": "code",
   "execution_count": null,
   "metadata": {},
   "outputs": [],
   "source": [
    "from sklearn.linear_model import LogisticRegression as LR\n",
    "lr = LR(penalty=\"l2\",solver='liblinear',C=0.5,max_iter=100)\n",
    "lr.fit(X_train,y_train)\n",
    "print('Accuracy of LR classifier on training set: {:.4f}'\n",
    "     .format(lr.score(X_train, y_train)))\n",
    "print('Accuracy of LR classifier on test set: {:.4f}'\n",
    "     .format(lr.score(X_test, y_test)))"
   ]
  },
  {
   "cell_type": "markdown",
   "metadata": {},
   "source": [
    "Confusion Matrix of training set"
   ]
  },
  {
   "cell_type": "code",
   "execution_count": null,
   "metadata": {},
   "outputs": [],
   "source": [
    "y_pred_train = lr.predict(X_train)\n",
    "from sklearn.metrics import confusion_matrix\n",
    "confusion_matrix = confusion_matrix(y_train, y_pred_train)\n",
    "print(confusion_matrix)"
   ]
  },
  {
   "cell_type": "code",
   "execution_count": null,
   "metadata": {},
   "outputs": [],
   "source": [
    "from sklearn.metrics import classification_report\n",
    "print(classification_report(y_train, y_pred_train,digits=4, target_names=['High CPUE','Low CPUE']))"
   ]
  },
  {
   "cell_type": "markdown",
   "metadata": {},
   "source": [
    "Confusion Matrix of test set"
   ]
  },
  {
   "cell_type": "code",
   "execution_count": null,
   "metadata": {},
   "outputs": [],
   "source": [
    "y_pred = lr.predict(X_test)\n",
    "from sklearn.metrics import confusion_matrix\n",
    "confusion_matrix = confusion_matrix(y_test, y_pred)\n",
    "print(confusion_matrix)"
   ]
  },
  {
   "cell_type": "code",
   "execution_count": null,
   "metadata": {},
   "outputs": [],
   "source": [
    "from sklearn.metrics import classification_report\n",
    "print(classification_report(y_test, y_pred,digits=4, target_names=['High CPUE','Low CPUE']))"
   ]
  },
  {
   "cell_type": "markdown",
   "metadata": {
    "colab_type": "text",
    "id": "qXUhD2IeTzuU"
   },
   "source": [
    "## Decision Tree"
   ]
  },
  {
   "cell_type": "code",
   "execution_count": null,
   "metadata": {
    "colab": {},
    "colab_type": "code",
    "id": "yH0FxUy-TzuV",
    "outputId": "14c6ac93-3fe5-4772-cf96-4d525b07ef4f"
   },
   "outputs": [],
   "source": [
    "from sklearn.tree import DecisionTreeClassifier\n",
    "clf = DecisionTreeClassifier().fit(X_train, y_train)\n",
    "\n",
    "print('Accuracy of Decision Tree classifier on training set: {:.4f}'\n",
    "     .format(clf.score(X_train, y_train)))\n",
    "print('Accuracy of Decision Tree classifier on test set: {:.4f}'\n",
    "     .format(clf.score(X_test, y_test)))"
   ]
  },
  {
   "cell_type": "markdown",
   "metadata": {
    "colab_type": "text",
    "id": "uB08Jb66TzuZ"
   },
   "source": [
    "Confusion Matrix of training set"
   ]
  },
  {
   "cell_type": "code",
   "execution_count": null,
   "metadata": {
    "colab": {},
    "colab_type": "code",
    "id": "M1fAeRF5Tzua",
    "outputId": "d801af9f-dec2-4e7e-cf83-3133765f2f24"
   },
   "outputs": [],
   "source": [
    "y_pred_train = clf.predict(X_train)\n",
    "from sklearn.metrics import confusion_matrix\n",
    "confusion_matrix = confusion_matrix(y_train, y_pred_train)\n",
    "print(confusion_matrix)"
   ]
  },
  {
   "cell_type": "code",
   "execution_count": null,
   "metadata": {
    "colab": {},
    "colab_type": "code",
    "id": "1uVvWo8VTzuf",
    "outputId": "425d9605-18e5-42fe-a7fe-e998f335dc27"
   },
   "outputs": [],
   "source": [
    "from sklearn.metrics import classification_report\n",
    "print(classification_report(y_train, y_pred_train,digits=4, target_names=['High CPUE','Low CPUE']))"
   ]
  },
  {
   "cell_type": "markdown",
   "metadata": {
    "colab_type": "text",
    "id": "pNRazBnhTzuj"
   },
   "source": [
    "Confusion Matrix of test set"
   ]
  },
  {
   "cell_type": "code",
   "execution_count": null,
   "metadata": {
    "colab": {},
    "colab_type": "code",
    "id": "3jfh7yguTzuz",
    "outputId": "53b0b7c9-218d-49fe-b2b1-a293e0a88ecf"
   },
   "outputs": [],
   "source": [
    "y_pred = clf.predict(X_test)\n",
    "from sklearn.metrics import confusion_matrix\n",
    "confusion_matrix = confusion_matrix(y_test, y_pred)\n",
    "print(confusion_matrix)"
   ]
  },
  {
   "cell_type": "code",
   "execution_count": null,
   "metadata": {
    "colab": {},
    "colab_type": "code",
    "id": "vSIu4oNRTzu2",
    "outputId": "b717a1be-438e-439c-ee96-31820d943ef1"
   },
   "outputs": [],
   "source": [
    "from sklearn.metrics import classification_report\n",
    "print(classification_report(y_test, y_pred,digits=4, target_names=['High CPUE','Low CPUE']))"
   ]
  },
  {
   "cell_type": "code",
   "execution_count": null,
   "metadata": {},
   "outputs": [],
   "source": [
    "# AUC\n",
    "from sklearn.metrics import roc_curve, auc\n",
    "\n",
    "y_prob = clf.predict_proba(X_test)[:,1]\n",
    "fpr, tpr, thresholds = roc_curve(y_test, y_prob)\n",
    "roc_auc = auc(fpr, tpr)\n",
    "roc_auc\n",
    "plt.plot([0,1],[0,1], ls=\"--\", c=\".3\")\n",
    "plt.plot(fpr, tpr, 'b', label='ROC (AUC = {0:.4f})'.format(roc_auc), lw=2)\n",
    "plt.xlim([-0.05, 1.05])\n",
    "plt.ylim([-0.05, 1.05])\n",
    "plt.xlabel('False Positive Rate')\n",
    "plt.ylabel('True Positive Rate')\n",
    "plt.title('ROC Curve')\n",
    "plt.legend(loc=\"lower right\")\n",
    "plt.show()"
   ]
  },
  {
   "cell_type": "markdown",
   "metadata": {
    "colab_type": "text",
    "id": "TA73LJkaTzu7"
   },
   "source": [
    "## Random Forest"
   ]
  },
  {
   "cell_type": "code",
   "execution_count": null,
   "metadata": {
    "colab": {},
    "colab_type": "code",
    "id": "TyxKSXsgTzu8",
    "outputId": "8ab6dcd4-3287-486d-f6ce-ff09db57efff"
   },
   "outputs": [],
   "source": [
    "from sklearn.ensemble import RandomForestClassifier\n",
    "from sklearn.datasets import make_classification\n",
    "RF = RandomForestClassifier(n_estimators=200,  random_state=0)\n",
    "RF.fit(X_train, y_train)\n",
    "print('Accuracy of RF classifier on training set: {:.4f}'\n",
    "     .format(RF.score(X_train, y_train)))\n",
    "print('Accuracy of RF classifier on test set: {:.4f}'\n",
    "     .format(RF.score(X_test, y_test)))"
   ]
  },
  {
   "cell_type": "markdown",
   "metadata": {
    "colab_type": "text",
    "id": "gZo7-oyITzu_"
   },
   "source": [
    "Confusion Matrix of training set"
   ]
  },
  {
   "cell_type": "code",
   "execution_count": null,
   "metadata": {
    "colab": {},
    "colab_type": "code",
    "id": "yadH4kocTzu_",
    "outputId": "0dac5566-f035-44ee-ecc6-b0efe462402e"
   },
   "outputs": [],
   "source": [
    "y_pred_train = RF.predict(X_train)\n",
    "from sklearn.metrics import confusion_matrix\n",
    "confusion_matrix = confusion_matrix(y_train, y_pred_train)\n",
    "print(confusion_matrix)"
   ]
  },
  {
   "cell_type": "code",
   "execution_count": null,
   "metadata": {},
   "outputs": [],
   "source": [
    "from sklearn.metrics import classification_report\n",
    "print(classification_report(y_train, y_pred_train,digits=4, target_names=['High CPUE','Low CPUE']))"
   ]
  },
  {
   "cell_type": "markdown",
   "metadata": {
    "colab_type": "text",
    "id": "GkAaSOMqTzvC"
   },
   "source": [
    "Confusion Matrix of test set\n"
   ]
  },
  {
   "cell_type": "code",
   "execution_count": null,
   "metadata": {
    "colab": {},
    "colab_type": "code",
    "id": "e5gNpfYMTzvD",
    "outputId": "a3616b21-33fd-4be1-e923-81eb3779a348"
   },
   "outputs": [],
   "source": [
    "y_pred = RF.predict(X_test)\n",
    "from sklearn.metrics import confusion_matrix\n",
    "confusion_matrix = confusion_matrix(y_test, y_pred)\n",
    "print(confusion_matrix)"
   ]
  },
  {
   "cell_type": "code",
   "execution_count": null,
   "metadata": {
    "colab": {},
    "colab_type": "code",
    "id": "p_iIF41gTzvH",
    "outputId": "e55e6469-839c-4365-eb06-8756188c112c"
   },
   "outputs": [],
   "source": [
    "from sklearn.metrics import classification_report\n",
    "print(classification_report(y_test, y_pred,digits=4, target_names=['High CPUE','Low CPUE']))"
   ]
  },
  {
   "cell_type": "code",
   "execution_count": null,
   "metadata": {},
   "outputs": [],
   "source": [
    "# AUC\n",
    "from sklearn.metrics import roc_curve, auc\n",
    "\n",
    "y_prob = RF.predict_proba(X_test)[:,1]\n",
    "fpr, tpr, thresholds = roc_curve(y_test, y_prob)\n",
    "roc_auc = auc(fpr, tpr)\n",
    "roc_auc\n",
    "plt.plot([0,1],[0,1], ls=\"--\", c=\".3\")\n",
    "plt.plot(fpr, tpr, 'b', label='ROC (AUC = {0:.4f})'.format(roc_auc), lw=2)\n",
    "plt.xlim([-0.05, 1.05])\n",
    "plt.ylim([-0.05, 1.05])\n",
    "plt.xlabel('False Positive Rate')\n",
    "plt.ylabel('True Positive Rate')\n",
    "plt.title('ROC Curve')\n",
    "plt.legend(loc=\"lower right\")\n",
    "plt.show()"
   ]
  },
  {
   "cell_type": "markdown",
   "metadata": {
    "colab_type": "text",
    "id": "2dkUBqbITzvn"
   },
   "source": [
    "## ADABOOST"
   ]
  },
  {
   "cell_type": "code",
   "execution_count": null,
   "metadata": {
    "colab": {},
    "colab_type": "code",
    "id": "zNy69xhRTzvn",
    "outputId": "30af90ad-3244-4177-dc1b-422e2970b2eb"
   },
   "outputs": [],
   "source": [
    "from sklearn.ensemble import AdaBoostClassifier\n",
    "from sklearn.datasets import make_classification\n",
    "\n",
    "ADB = AdaBoostClassifier(n_estimators=100, random_state=0)\n",
    "ADB.fit(X_train, y_train)\n",
    "print('Accuracy of ADB classifier on training set: {:.4f}'\n",
    "     .format(ADB.score(X_train, y_train)))\n",
    "print('Accuracy of ADB classifier on test set: {:.4f}'\n",
    "     .format(ADB.score(X_test, y_test)))"
   ]
  },
  {
   "cell_type": "markdown",
   "metadata": {
    "colab_type": "text",
    "id": "DHqmMeqyTzvq"
   },
   "source": [
    "Confusion Matrix of training set"
   ]
  },
  {
   "cell_type": "code",
   "execution_count": null,
   "metadata": {
    "colab": {},
    "colab_type": "code",
    "id": "baP35PyFTzvr",
    "outputId": "34322a91-f2f9-42c8-c67b-2be230ea0b77"
   },
   "outputs": [],
   "source": [
    "y_pred_train = ADB.predict(X_train)\n",
    "from sklearn.metrics import confusion_matrix\n",
    "confusion_matrix = confusion_matrix(y_train, y_pred_train)\n",
    "print(confusion_matrix)"
   ]
  },
  {
   "cell_type": "code",
   "execution_count": null,
   "metadata": {
    "colab": {},
    "colab_type": "code",
    "id": "uSzAXxurTzvw",
    "outputId": "ea38a951-db50-445f-df17-3d999276d98f"
   },
   "outputs": [],
   "source": [
    "from sklearn.metrics import classification_report\n",
    "print(classification_report(y_train, y_pred_train))"
   ]
  },
  {
   "cell_type": "markdown",
   "metadata": {
    "colab_type": "text",
    "id": "w0iIvbPsTzv1"
   },
   "source": [
    "Confusion Matrix of test set"
   ]
  },
  {
   "cell_type": "code",
   "execution_count": null,
   "metadata": {
    "colab": {},
    "colab_type": "code",
    "id": "-9nP0vYwTzv3",
    "outputId": "106afec8-a195-4d42-e2ed-5332e8965bbe"
   },
   "outputs": [],
   "source": [
    "y_pred = ADB.predict(X_test)\n",
    "from sklearn.metrics import confusion_matrix\n",
    "confusion_matrix = confusion_matrix(y_test, y_pred)\n",
    "print(confusion_matrix)"
   ]
  },
  {
   "cell_type": "code",
   "execution_count": null,
   "metadata": {
    "colab": {},
    "colab_type": "code",
    "id": "8nyl3tyoTzv6",
    "outputId": "c7219b4c-56f5-4fae-9444-b44948ab7ea5"
   },
   "outputs": [],
   "source": [
    "from sklearn.metrics import classification_report\n",
    "print(classification_report(y_test, y_pred,digits=4, target_names=['High CPUE','Low CPUE']))"
   ]
  },
  {
   "cell_type": "markdown",
   "metadata": {
    "colab_type": "text",
    "id": "_h-zq05ATzv-"
   },
   "source": [
    "## XGBOOST"
   ]
  },
  {
   "cell_type": "code",
   "execution_count": null,
   "metadata": {
    "colab": {},
    "colab_type": "code",
    "id": "w5VyRmJGTzv-",
    "outputId": "dfa6f7b1-4f6d-4a5a-ede5-3192aa416f6d"
   },
   "outputs": [],
   "source": [
    "from xgboost import XGBClassifier\n",
    "from sklearn.datasets import make_classification\n",
    "\n",
    "XGB = XGBClassifier()\n",
    "XGB.fit(X_train, y_train)\n",
    "print('Accuracy of XGB classifier on training set: {:.4f}'\n",
    "     .format(XGB.score(X_train, y_train)))\n",
    "print('Accuracy of XGB classifier on test set: {:.4f}'\n",
    "     .format(XGB.score(X_test, y_test)))"
   ]
  },
  {
   "cell_type": "markdown",
   "metadata": {
    "colab_type": "text",
    "id": "3U1LjtB-TzwB"
   },
   "source": [
    "Confusion Matrix of training set"
   ]
  },
  {
   "cell_type": "code",
   "execution_count": null,
   "metadata": {
    "colab": {},
    "colab_type": "code",
    "id": "sX5WmJD-TzwC",
    "outputId": "8f186c1e-656c-498c-ada3-9fe2bb9ee11b"
   },
   "outputs": [],
   "source": [
    "y_pred_train = XGB.predict(X_train)\n",
    "from sklearn.metrics import confusion_matrix\n",
    "confusion_matrix = confusion_matrix(y_train, y_pred_train)\n",
    "print(confusion_matrix)"
   ]
  },
  {
   "cell_type": "code",
   "execution_count": null,
   "metadata": {
    "colab": {},
    "colab_type": "code",
    "id": "7hOLYB74TzwE",
    "outputId": "c058ce82-46b4-4e3a-ade2-2240de914d53"
   },
   "outputs": [],
   "source": [
    "from sklearn.metrics import classification_report\n",
    "print(classification_report(y_train, y_pred_train,digits=4, target_names=['High CPUE','Low CPUE']))"
   ]
  },
  {
   "cell_type": "markdown",
   "metadata": {
    "colab_type": "text",
    "id": "sGGzBLVlTzwH"
   },
   "source": [
    "Confusion Matrix of test set"
   ]
  },
  {
   "cell_type": "code",
   "execution_count": null,
   "metadata": {
    "colab": {},
    "colab_type": "code",
    "id": "52QXpqJqTzwI",
    "outputId": "d85022e2-b72e-4094-d74f-09f06062dfc0"
   },
   "outputs": [],
   "source": [
    "y_pred = XGB.predict(X_test)\n",
    "from sklearn.metrics import confusion_matrix\n",
    "confusion_matrix = confusion_matrix(y_test, y_pred)\n",
    "print(confusion_matrix)"
   ]
  },
  {
   "cell_type": "code",
   "execution_count": null,
   "metadata": {
    "colab": {},
    "colab_type": "code",
    "id": "bPx9aLPCTzwM",
    "outputId": "89267532-fb38-4494-dcd8-a9c5c92091b1"
   },
   "outputs": [],
   "source": [
    "from sklearn.metrics import classification_report\n",
    "print(classification_report(y_test, y_pred,digits=4, target_names=['High CPUE','Low CPUE']))"
   ]
  },
  {
   "cell_type": "markdown",
   "metadata": {
    "colab_type": "text",
    "id": "ys09efjyTzwW"
   },
   "source": [
    "## Light GBM"
   ]
  },
  {
   "cell_type": "code",
   "execution_count": null,
   "metadata": {
    "colab": {},
    "colab_type": "code",
    "id": "rCZlxJdzTzwW",
    "outputId": "2d1b5fd6-3bf7-4ba6-b704-44c272842952"
   },
   "outputs": [],
   "source": [
    "from lightgbm import LGBMClassifier\n",
    "from sklearn.datasets import make_classification\n",
    "\n",
    "LGB = LGBMClassifier()\n",
    "LGB.fit(X_train, y_train)\n",
    "print('Accuracy of LGB classifier on training set: {:.4f}'\n",
    "     .format(LGB.score(X_train, y_train)))\n",
    "print('Accuracy of LGB classifier on test set: {:.4f}'\n",
    "     .format(LGB.score(X_test, y_test)))"
   ]
  },
  {
   "cell_type": "markdown",
   "metadata": {
    "colab_type": "text",
    "id": "X3_oy953TzwY"
   },
   "source": [
    "Confusion Matrix of training set"
   ]
  },
  {
   "cell_type": "code",
   "execution_count": null,
   "metadata": {
    "colab": {},
    "colab_type": "code",
    "id": "fEKJczl1TzwY",
    "outputId": "487614c4-f6b0-4f40-cb44-aa0a9a1694c3"
   },
   "outputs": [],
   "source": [
    "y_pred_train = LGB.predict(X_train)\n",
    "from sklearn.metrics import confusion_matrix\n",
    "confusion_matrix = confusion_matrix(y_train, y_pred_train)\n",
    "print(confusion_matrix)"
   ]
  },
  {
   "cell_type": "code",
   "execution_count": null,
   "metadata": {
    "colab": {},
    "colab_type": "code",
    "id": "fu4ouGJpTzwc",
    "outputId": "4bc4d5df-112a-4018-ce11-0910fecb20e2",
    "scrolled": true
   },
   "outputs": [],
   "source": [
    "from sklearn.metrics import classification_report\n",
    "print(classification_report(y_test, y_pred,digits=4, target_names=['High CPUE','Low CPUE']))"
   ]
  },
  {
   "cell_type": "markdown",
   "metadata": {
    "colab_type": "text",
    "id": "_SerIgneTzwf"
   },
   "source": [
    "Confusion Matrix of test set\n"
   ]
  },
  {
   "cell_type": "code",
   "execution_count": null,
   "metadata": {
    "colab": {},
    "colab_type": "code",
    "id": "Rpi3JYTVTzwg",
    "outputId": "554fb12e-03ad-455e-b89a-9f8db9f9b52d"
   },
   "outputs": [],
   "source": [
    "y_pred = LGB.predict(X_test)\n",
    "from sklearn.metrics import confusion_matrix\n",
    "confusion_matrix = confusion_matrix(y_test, y_pred)\n",
    "print(confusion_matrix)"
   ]
  },
  {
   "cell_type": "code",
   "execution_count": null,
   "metadata": {
    "colab": {},
    "colab_type": "code",
    "id": "5VZpZNiPTzwj",
    "outputId": "22038642-7144-4bb7-d8c3-152bf32e08e6"
   },
   "outputs": [],
   "source": [
    "from sklearn.metrics import classification_report\n",
    "print(classification_report(y_test, y_pred,digits=4, target_names=['High CPUE','Low CPUE']))"
   ]
  },
  {
   "cell_type": "code",
   "execution_count": null,
   "metadata": {},
   "outputs": [],
   "source": [
    "# AUC\n",
    "from sklearn.metrics import roc_curve, auc\n",
    "\n",
    "y_prob = LGB.predict_proba(X_test)[:,1]\n",
    "fpr, tpr, thresholds = roc_curve(y_test, y_prob)\n",
    "roc_auc = auc(fpr, tpr)\n",
    "roc_auc\n",
    "plt.plot([0,1],[0,1], ls=\"--\", c=\".3\")\n",
    "plt.plot(fpr, tpr, 'b', label='ROC (AUC = {0:.4f})'.format(roc_auc), lw=2)\n",
    "plt.xlim([-0.05, 1.05])\n",
    "plt.ylim([-0.05, 1.05])\n",
    "plt.xlabel('False Positive Rate')\n",
    "plt.ylabel('True Positive Rate')\n",
    "plt.title('ROC Curve')\n",
    "plt.legend(loc=\"lower right\")\n",
    "plt.show()"
   ]
  },
  {
   "cell_type": "markdown",
   "metadata": {
    "colab_type": "text",
    "id": "Q7nmI2H7Tzwk"
   },
   "source": [
    "# Cat BOOST"
   ]
  },
  {
   "cell_type": "code",
   "execution_count": null,
   "metadata": {
    "colab": {},
    "colab_type": "code",
    "id": "-Btw9Fs8Tzwl",
    "outputId": "90e0dd9b-895a-4b3b-f162-db210a99c709",
    "scrolled": true
   },
   "outputs": [],
   "source": [
    "from catboost import CatBoostClassifier\n",
    "from sklearn.datasets import make_classification\n",
    "\n",
    "CGB = CatBoostClassifier()\n",
    "CGB.fit(X_train, y_train)\n",
    "print('Accuracy of CGB classifier on training set: {:.4f}'\n",
    "     .format(CGB.score(X_train, y_train)))\n",
    "print('Accuracy of CGB classifier on test set: {:.4f}'\n",
    "     .format(CGB.score(X_test, y_test)))"
   ]
  },
  {
   "cell_type": "markdown",
   "metadata": {
    "colab_type": "text",
    "id": "wYz5oAF2Tzwo"
   },
   "source": [
    "Confusion Matrix of training set"
   ]
  },
  {
   "cell_type": "code",
   "execution_count": null,
   "metadata": {
    "colab": {},
    "colab_type": "code",
    "id": "O3x-THn8Tzwp",
    "outputId": "b47ce891-d678-46ac-e9d5-286319906f28"
   },
   "outputs": [],
   "source": [
    "y_pred_train = CGB.predict(X_train)\n",
    "from sklearn.metrics import confusion_matrix\n",
    "confusion_matrix = confusion_matrix(y_train, y_pred_train)\n",
    "print(confusion_matrix)"
   ]
  },
  {
   "cell_type": "code",
   "execution_count": null,
   "metadata": {
    "colab": {},
    "colab_type": "code",
    "id": "857nslAZTzwu",
    "outputId": "dbcd82e6-214f-48c2-d463-5ee462afbd99"
   },
   "outputs": [],
   "source": [
    "from sklearn.metrics import classification_report\n",
    "print(classification_report(y_train, y_pred_train,digits=4, target_names=['High CPUE','Low CPUE']))"
   ]
  },
  {
   "cell_type": "markdown",
   "metadata": {
    "colab_type": "text",
    "id": "WyB-Sm23Tzwx"
   },
   "source": [
    "Confusion Matrix of test set\n"
   ]
  },
  {
   "cell_type": "code",
   "execution_count": null,
   "metadata": {
    "colab": {},
    "colab_type": "code",
    "id": "wOjf4P7MTzwz",
    "outputId": "0c30ead2-c5fb-4237-cbfd-e7d582fdeee5"
   },
   "outputs": [],
   "source": [
    "y_pred = CGB.predict(X_test)\n",
    "from sklearn.metrics import confusion_matrix\n",
    "confusion_matrix = confusion_matrix(y_test, y_pred)\n",
    "print(confusion_matrix)"
   ]
  },
  {
   "cell_type": "code",
   "execution_count": null,
   "metadata": {
    "colab": {},
    "colab_type": "code",
    "id": "3QzbdGstTzw1",
    "outputId": "645c2b0c-df62-4900-84e8-90911491705b"
   },
   "outputs": [],
   "source": [
    "from sklearn.metrics import classification_report\n",
    "print(classification_report(y_test, y_pred,digits=4, target_names=['High CPUE','Low CPUE']))"
   ]
  },
  {
   "cell_type": "code",
   "execution_count": null,
   "metadata": {},
   "outputs": [],
   "source": [
    "# AUC\n",
    "from sklearn.metrics import roc_curve, auc\n",
    "\n",
    "y_prob = CGB.predict_proba(X_test)[:,1]\n",
    "fpr, tpr, thresholds = roc_curve(y_test, y_prob)\n",
    "roc_auc = auc(fpr, tpr)\n",
    "roc_auc\n",
    "plt.plot([0,1],[0,1], ls=\"--\", c=\".3\")\n",
    "plt.plot(fpr, tpr, 'b', label='ROC (AUC = {0:.4f})'.format(roc_auc), lw=2)\n",
    "plt.xlim([-0.05, 1.05])\n",
    "plt.ylim([-0.05, 1.05])\n",
    "plt.xlabel('False Positive Rate')\n",
    "plt.ylabel('True Positive Rate')\n",
    "plt.title('ROC Curve')\n",
    "plt.legend(loc=\"lower right\")\n",
    "plt.show()"
   ]
  },
  {
   "cell_type": "markdown",
   "metadata": {},
   "source": [
    "## GAM"
   ]
  },
  {
   "cell_type": "code",
   "execution_count": null,
   "metadata": {},
   "outputs": [],
   "source": [
    "from pygam import LogisticGAM\n",
    "from sklearn.datasets import make_classification\n",
    "\n",
    "# 把最佳参数输入\n",
    "# GAM = LogisticGAM().gridsearch(X_train, y_train)\n",
    "GAM = LogisticGAM()\n",
    "GAM.fit(X_train, y_train)\n",
    "print('Accuracy of GAM classifier on training set: {:.4f}'\n",
    "     .format(GAM.accuracy(X_train, y_train)))\n",
    "print('Accuracy of GAM classifier on test set: {:.4f}'\n",
    "     .format(GAM.accuracy(X_test, y_test)))\n",
    "\n",
    "# Ypred = GAM.predict(Xtest)\n",
    "# Ypred_proba = GAM.predict_proba(Xtest)"
   ]
  },
  {
   "cell_type": "code",
   "execution_count": null,
   "metadata": {
    "scrolled": true
   },
   "outputs": [],
   "source": [
    "GAM.summary()"
   ]
  },
  {
   "cell_type": "markdown",
   "metadata": {},
   "source": [
    "Confusion Matrix of training set"
   ]
  },
  {
   "cell_type": "code",
   "execution_count": null,
   "metadata": {},
   "outputs": [],
   "source": [
    "y_pred_train = GAM.predict(X_train)\n",
    "from sklearn.metrics import confusion_matrix\n",
    "confusion_matrix = confusion_matrix(y_train, y_pred_train)\n",
    "print(confusion_matrix)"
   ]
  },
  {
   "cell_type": "code",
   "execution_count": null,
   "metadata": {},
   "outputs": [],
   "source": [
    "from sklearn.metrics import classification_report\n",
    "print(classification_report(y_train, y_pred_train,digits=4, target_names=['High CPUE','Low CPUE']))"
   ]
  },
  {
   "cell_type": "markdown",
   "metadata": {},
   "source": [
    "Confusion Matrix of test set"
   ]
  },
  {
   "cell_type": "code",
   "execution_count": null,
   "metadata": {},
   "outputs": [],
   "source": [
    "y_pred = GAM.predict(X_test)\n",
    "from sklearn.metrics import confusion_matrix\n",
    "confusion_matrix = confusion_matrix(y_test, y_pred)\n",
    "print(confusion_matrix)"
   ]
  },
  {
   "cell_type": "code",
   "execution_count": null,
   "metadata": {},
   "outputs": [],
   "source": [
    "from sklearn.metrics import classification_report\n",
    "print(classification_report(y_test, y_pred, digits=4, target_names=['fishes','no fishes']))"
   ]
  },
  {
   "cell_type": "code",
   "execution_count": null,
   "metadata": {},
   "outputs": [],
   "source": [
    "# AUC\n",
    "from sklearn.metrics import roc_curve, auc\n",
    "\n",
    "y_prob = GAM.predict_proba(X_test)\n",
    "fpr, tpr, thresholds = roc_curve(y_test, y_prob)\n",
    "roc_auc = auc(fpr, tpr)\n",
    "roc_auc\n",
    "plt.plot([0,1],[0,1], ls=\"--\", c=\".3\")\n",
    "plt.plot(fpr, tpr, 'b', label='ROC (AUC = {0:.4f})'.format(roc_auc), lw=2)\n",
    "plt.xlim([-0.05, 1.05])\n",
    "plt.ylim([-0.05, 1.05])\n",
    "plt.xlabel('False Positive Rate')\n",
    "plt.ylabel('True Positive Rate')\n",
    "plt.title('ROC Curve')\n",
    "plt.legend(loc=\"lower right\")\n",
    "plt.show()"
   ]
  },
  {
   "cell_type": "markdown",
   "metadata": {},
   "source": [
    "## PI"
   ]
  },
  {
   "cell_type": "code",
   "execution_count": null,
   "metadata": {
    "scrolled": true
   },
   "outputs": [],
   "source": [
    "import eli5\n",
    "from eli5.sklearn import PermutationImportance\n",
    "print(\"DT Permutation Importance\")\n",
    "perm = PermutationImportance(clf).fit(X_test, y_test)\n",
    "eli5.show_weights(perm,feature_names = data[[c for c in data.columns if c != 'Class']].columns.tolist())"
   ]
  },
  {
   "cell_type": "code",
   "execution_count": null,
   "metadata": {},
   "outputs": [],
   "source": [
    "import eli5\n",
    "from eli5.sklearn import PermutationImportance\n",
    "print(\"RF Permutation Importance\")\n",
    "perm = PermutationImportance(RF).fit(X_test, y_test)\n",
    "eli5.show_weights(perm,feature_names = data[[c for c in data.columns if c != 'Class']].columns.tolist())"
   ]
  },
  {
   "cell_type": "code",
   "execution_count": null,
   "metadata": {
    "scrolled": true
   },
   "outputs": [],
   "source": [
    "import eli5\n",
    "from eli5.sklearn import PermutationImportance\n",
    "print(\"LGB Permutation Importance\")\n",
    "perm = PermutationImportance(LGB).fit(X_test, y_test)\n",
    "eli5.show_weights(perm,feature_names = data[[c for c in data.columns if c != 'Class']].columns.tolist())"
   ]
  },
  {
   "cell_type": "code",
   "execution_count": null,
   "metadata": {},
   "outputs": [],
   "source": [
    "import eli5\n",
    "from eli5.sklearn import PermutationImportance\n",
    "print(\"CGB Permutation Importance\")\n",
    "perm = PermutationImportance(CGB).fit(X_test, y_test)\n",
    "eli5.show_weights(perm,feature_names = data[[c for c in data.columns if c != 'Class']].columns.tolist())"
   ]
  },
  {
   "cell_type": "code",
   "execution_count": null,
   "metadata": {},
   "outputs": [],
   "source": [
    "import eli5\n",
    "from eli5.sklearn import PermutationImportance\n",
    "print(\"CGB Permutation Importance\")\n",
    "# perm = PermutationImportance(GAM).fit(X_test, y_test)\n",
    "eli5.show_weights(GAM,feature_names = data[[c for c in data.columns if c != 'Class']].columns.tolist())"
   ]
  },
  {
   "cell_type": "markdown",
   "metadata": {
    "colab_type": "text",
    "id": "PrnneS0uTzw4"
   },
   "source": [
    "## SHAP"
   ]
  },
  {
   "cell_type": "code",
   "execution_count": null,
   "metadata": {},
   "outputs": [],
   "source": [
    "import shap\n",
    "shap.initjs()"
   ]
  },
  {
   "cell_type": "markdown",
   "metadata": {},
   "source": [
    "## GAM SHAP"
   ]
  },
  {
   "cell_type": "code",
   "execution_count": null,
   "metadata": {},
   "outputs": [],
   "source": [
    "data_gam = shap.sample(X_test, 5)\n",
    "explainer = shap.KernelExplainer(GAM.predict, data_gam)"
   ]
  },
  {
   "cell_type": "code",
   "execution_count": null,
   "metadata": {},
   "outputs": [],
   "source": [
    "gam_shap_values = explainer.shap_values(X_test)\n",
    "gam_expected_values = explainer.expected_value"
   ]
  },
  {
   "cell_type": "code",
   "execution_count": null,
   "metadata": {
    "scrolled": true
   },
   "outputs": [],
   "source": [
    "shap.summary_plot(gam_shap_values, X_test, plot_type='bar')"
   ]
  },
  {
   "cell_type": "code",
   "execution_count": null,
   "metadata": {
    "scrolled": true
   },
   "outputs": [],
   "source": [
    "shap.summary_plot(gam_shap_values, X_test,cmap=plt.get_cmap(\"viridis\"),alpha=0.5,sort=None)"
   ]
  },
  {
   "cell_type": "code",
   "execution_count": null,
   "metadata": {
    "scrolled": true
   },
   "outputs": [],
   "source": [
    "features_num = len(X_test.columns)\n",
    "for i in range(features_num):\n",
    "    shap.dependence_plot(X_test.columns.to_list()[i], gam_shap_values, X_test, interaction_index=None,alpha=0.5,dot_size=8,)\n",
    "# D100值越大，shap值越大，高渔获量概率越大"
   ]
  },
  {
   "cell_type": "markdown",
   "metadata": {},
   "source": [
    "## DT SHAP"
   ]
  },
  {
   "cell_type": "code",
   "execution_count": null,
   "metadata": {},
   "outputs": [],
   "source": [
    "explainer = shap.TreeExplainer(clf)\n",
    "clf_shap_values = explainer.shap_values(X_test)\n",
    "clf_expected_values = explainer.expected_value"
   ]
  },
  {
   "cell_type": "code",
   "execution_count": null,
   "metadata": {},
   "outputs": [],
   "source": [
    "len(clf_shap_values)"
   ]
  },
  {
   "cell_type": "code",
   "execution_count": null,
   "metadata": {},
   "outputs": [],
   "source": [
    "clf_shap_values[1].shape"
   ]
  },
  {
   "cell_type": "code",
   "execution_count": null,
   "metadata": {},
   "outputs": [],
   "source": [
    "clf_shap_values[1]"
   ]
  },
  {
   "cell_type": "code",
   "execution_count": null,
   "metadata": {},
   "outputs": [],
   "source": [
    "np.average(abs(clf_shap_values[1]), axis=0)"
   ]
  },
  {
   "cell_type": "code",
   "execution_count": null,
   "metadata": {},
   "outputs": [],
   "source": [
    "features"
   ]
  },
  {
   "cell_type": "code",
   "execution_count": null,
   "metadata": {
    "scrolled": false
   },
   "outputs": [],
   "source": [
    "shap.summary_plot(clf_shap_values[1], X_test, plot_type='bar',feature_names = features, sort=None, show=None)\n",
    "plt.grid()"
   ]
  },
  {
   "cell_type": "code",
   "execution_count": null,
   "metadata": {
    "scrolled": true
   },
   "outputs": [],
   "source": [
    "shap.summary_plot(clf_shap_values, X_test, plot_type='bar')"
   ]
  },
  {
   "cell_type": "code",
   "execution_count": null,
   "metadata": {},
   "outputs": [],
   "source": [
    "shap.summary_plot??"
   ]
  },
  {
   "cell_type": "code",
   "execution_count": null,
   "metadata": {
    "scrolled": true
   },
   "outputs": [],
   "source": [
    "shap.summary_plot(clf_shap_values, X_test)"
   ]
  },
  {
   "cell_type": "code",
   "execution_count": null,
   "metadata": {
    "scrolled": true
   },
   "outputs": [],
   "source": [
    "fig = plt.figure(dpi=600)\n",
    "shap.summary_plot(clf_shap_values[1], X_test,cmap=plt.get_cmap(\"viridis\"),alpha=0.5,sort=None, feature_names = None)\n",
    "# plt.savefig(\"./SHAP_Pics/2_clf_beeswarm.jpg\",dpi=600)\n",
    "plt.tight_layout()\n",
    "plt.show()"
   ]
  },
  {
   "cell_type": "code",
   "execution_count": null,
   "metadata": {},
   "outputs": [],
   "source": [
    "shap.summary_plot(clf_shap_values[1], X_test, plot_type='violin')"
   ]
  },
  {
   "cell_type": "code",
   "execution_count": null,
   "metadata": {},
   "outputs": [],
   "source": [
    "shap.summary_plot(clf_shap_values[1], X_test,cmap=plt.get_cmap(\"viridis\"),alpha=0.5,max_display=10)"
   ]
  },
  {
   "cell_type": "code",
   "execution_count": null,
   "metadata": {},
   "outputs": [],
   "source": [
    "shap.summary_plot??"
   ]
  },
  {
   "cell_type": "markdown",
   "metadata": {},
   "source": [
    "## RF SHAP"
   ]
  },
  {
   "cell_type": "code",
   "execution_count": null,
   "metadata": {
    "scrolled": false
   },
   "outputs": [],
   "source": [
    "explainer = shap.TreeExplainer(RF)\n",
    "RF_shap_values = explainer.shap_values(X_test)\n",
    "RF_expected_values = explainer.expected_value\n",
    "shap.summary_plot(RF_shap_values[1], X_test, plot_type='bar')\n",
    "# 计算测试集上每个样本的该特征shap值之和，shap值越高，特征越重要。"
   ]
  },
  {
   "cell_type": "code",
   "execution_count": null,
   "metadata": {},
   "outputs": [],
   "source": [
    "shap.summary_plot(RF_shap_values[1], X_test, plot_type='bar',color = 'grey',max_display=10)"
   ]
  },
  {
   "cell_type": "code",
   "execution_count": null,
   "metadata": {},
   "outputs": [],
   "source": [
    "shap.summary_plot(RF_shap_values, X_test)"
   ]
  },
  {
   "cell_type": "code",
   "execution_count": null,
   "metadata": {},
   "outputs": [],
   "source": [
    "# 每一行表示一个特征，红色表示该特征的值较高的数据点，蓝色值表示该特征的值较低的数据点。\n",
    "# 越靠右的点表示这个特征对预测为 患病 的正向影响越高。\n",
    "shap.summary_plot(RF_shap_values[1], X_test,cmap=plt.get_cmap(\"viridis\"),alpha=0.5,sort=None)"
   ]
  },
  {
   "cell_type": "code",
   "execution_count": null,
   "metadata": {},
   "outputs": [],
   "source": [
    "shap.summary_plot(RF_shap_values[1], X_test, plot_type='violin')"
   ]
  },
  {
   "cell_type": "code",
   "execution_count": null,
   "metadata": {},
   "outputs": [],
   "source": [
    "shap.summary_plot(RF_shap_values[1], X_test,cmap=plt.get_cmap(\"viridis\"),alpha=0.5,max_display=10)"
   ]
  },
  {
   "cell_type": "markdown",
   "metadata": {},
   "source": [
    "## LGB SHAP"
   ]
  },
  {
   "cell_type": "code",
   "execution_count": null,
   "metadata": {
    "scrolled": false
   },
   "outputs": [],
   "source": [
    "explainer = shap.TreeExplainer(LGB)\n",
    "LGB_shap_values = explainer.shap_values(X_test)\n",
    "LGB_expected_values = explainer.expected_value\n",
    "shap.summary_plot(LGB_shap_values[1], X_test, plot_type='bar')"
   ]
  },
  {
   "cell_type": "code",
   "execution_count": null,
   "metadata": {},
   "outputs": [],
   "source": [
    "shap.summary_plot(LGB_shap_values[1], X_test,cmap=plt.get_cmap(\"viridis\"),alpha=0.5,sort=None)"
   ]
  },
  {
   "cell_type": "code",
   "execution_count": null,
   "metadata": {},
   "outputs": [],
   "source": [
    "shap.summary_plot(LGB_shap_values[1], X_test, plot_type='violin')"
   ]
  },
  {
   "cell_type": "code",
   "execution_count": null,
   "metadata": {},
   "outputs": [],
   "source": [
    "shap.summary_plot(LGB_shap_values[1], X_test,cmap=plt.get_cmap(\"viridis\"),alpha=0.5,max_display=10)"
   ]
  },
  {
   "cell_type": "markdown",
   "metadata": {},
   "source": [
    "## CGB SHAP"
   ]
  },
  {
   "cell_type": "code",
   "execution_count": null,
   "metadata": {},
   "outputs": [],
   "source": [
    "explainer = shap.TreeExplainer(CGB)\n",
    "CGB_shap_values = explainer.shap_values(X_test)\n",
    "CGB_expected_values = explainer.expected_value\n",
    "shap.summary_plot(LGB_shap_values, X_test, plot_type='bar')"
   ]
  },
  {
   "cell_type": "code",
   "execution_count": null,
   "metadata": {
    "scrolled": false
   },
   "outputs": [],
   "source": [
    "# summarize the effects of all the features\n",
    "shap.summary_plot(CGB_shap_values,X_test,cmap=plt.get_cmap(\"viridis\"),alpha=0.5,sort=None)"
   ]
  },
  {
   "cell_type": "code",
   "execution_count": null,
   "metadata": {},
   "outputs": [],
   "source": [
    "shap.summary_plot??"
   ]
  },
  {
   "cell_type": "code",
   "execution_count": null,
   "metadata": {},
   "outputs": [],
   "source": [
    "shap.summary_plot(CGB_shap_values, X_test, plot_type='violin')"
   ]
  },
  {
   "cell_type": "code",
   "execution_count": null,
   "metadata": {},
   "outputs": [],
   "source": [
    "shap.summary_plot(CGB_shap_values,X_test,cmap=plt.get_cmap(\"viridis\"),alpha=0.5,max_display=10)"
   ]
  },
  {
   "cell_type": "code",
   "execution_count": null,
   "metadata": {},
   "outputs": [],
   "source": [
    "# visualize the first prediction's explanation\n",
    "shap.force_plot(CGB_expected_values, CGB_shap_values[0,:], X.iloc[0,:])"
   ]
  },
  {
   "cell_type": "markdown",
   "metadata": {},
   "source": [
    "## XGB SHAP"
   ]
  },
  {
   "cell_type": "code",
   "execution_count": null,
   "metadata": {},
   "outputs": [],
   "source": [
    "explainer = shap.TreeExplainer(XGB)\n",
    "XGB_shap_values = explainer.shap_values(X_test)\n",
    "XGB_expected_values = explainer.expected_value\n",
    "shap.summary_plot(XGB_shap_values, X_test, plot_type='bar')"
   ]
  },
  {
   "cell_type": "code",
   "execution_count": null,
   "metadata": {
    "scrolled": true
   },
   "outputs": [],
   "source": [
    "# explainer = shap.KernelExplainer(lr.predict_proba,X_train)\n",
    "# lr_shap_values = explainer.shap_values(X_test)\n",
    "# lr_expected_values = explainer.expected_value\n",
    "# shap.summary_plot(lr_shap_values, X_test, plot_type='bar')"
   ]
  },
  {
   "cell_type": "markdown",
   "metadata": {},
   "source": [
    "##  Dependence Plot\n",
    "展示某个特征从小变大时对预测结果的shap值。"
   ]
  },
  {
   "cell_type": "code",
   "execution_count": null,
   "metadata": {},
   "outputs": [],
   "source": [
    "shap.dependence_plot??"
   ]
  },
  {
   "cell_type": "code",
   "execution_count": null,
   "metadata": {},
   "outputs": [],
   "source": [
    "X_test.columns\n",
    "# 4 5 8 12"
   ]
  },
  {
   "cell_type": "code",
   "execution_count": null,
   "metadata": {},
   "outputs": [],
   "source": [
    "X_test.columns.to_list()[4]"
   ]
  },
  {
   "cell_type": "code",
   "execution_count": null,
   "metadata": {
    "scrolled": false
   },
   "outputs": [],
   "source": [
    "fig = plt.figure(figsize=(10,10),dpi=600)\n",
    "shap.dependence_plot(X_test.columns.to_list()[4], RF_shap_values[1], X_test, interaction_index=None,alpha=0.5,dot_size=10)"
   ]
  },
  {
   "cell_type": "code",
   "execution_count": null,
   "metadata": {
    "scrolled": false
   },
   "outputs": [],
   "source": [
    "features_num = len(X_test.columns)\n",
    "for i in range(features_num):\n",
    "    fig = plt.figure(figsize=(10,10),dpi=600)\n",
    "\n",
    "    # fig,axes=plt.subplots(1,4,sharex=True,sharey=True)\n",
    "    ax0 = fig.add_subplot(321)\n",
    "    # ax0.title.set_text('Class 2 - Best ')\n",
    "    shap.dependence_plot(X_test.columns.to_list()[i], clf_shap_values[1], X_test, interaction_index=None,alpha=0.5,dot_size=8,show=False,ax=ax0)\n",
    "    ax0.set_xlabel(fr'{X_test.columns.to_list()[i]} in DT', fontsize=11)\n",
    "\n",
    "    ax1 = fig.add_subplot(322)\n",
    "    # ax1.title.set_text('Class 1 - Premium')\n",
    "    shap.dependence_plot(X_test.columns.to_list()[i], RF_shap_values[1], X_test, interaction_index=None,alpha=0.5,dot_size=8,show=False,ax=ax1)\n",
    "    ax1.set_xlabel(fr'{X_test.columns.to_list()[i]} in RF', fontsize=11)\n",
    "\n",
    "    ax2 = fig.add_subplot(323)\n",
    "    # ax2.title.set_text('Class 0 - Value')\n",
    "    shap.dependence_plot(X_test.columns.to_list()[i], LGB_shap_values[1], X_test, interaction_index=None,alpha=0.5,dot_size=8,show=False,ax=ax2)\n",
    "    ax2.set_xlabel(fr'{X_test.columns.to_list()[i]} in LGB', fontsize=11)\n",
    "\n",
    "    ax3 = fig.add_subplot(324)\n",
    "    # ax3.title.set_text('Class 0 - Value')\n",
    "    shap.dependence_plot(X_test.columns.to_list()[i], CGB_shap_values, X_test, interaction_index=None,alpha=0.5,dot_size=8,show=False,ax=ax3)\n",
    "    ax3.set_xlabel(fr'{X_test.columns.to_list()[i]} in CGB', fontsize=11)\n",
    "    \n",
    "    ax4 = fig.add_subplot(325)\n",
    "    # ax4.title.set_text('Class 0 - Value')\n",
    "    shap.dependence_plot(X_test.columns.to_list()[i], gam_shap_values, X_test, interaction_index=None,alpha=0.5,dot_size=8,show=False,ax=ax4)\n",
    "    ax4.set_xlabel(fr'{X_test.columns.to_list()[i]} in GAM', fontsize=11)\n",
    "\n",
    "    plt.tight_layout() # You can also use plt.tight_layout() instead of using plt.subplots_adjust() to add space between plots\n",
    "    plt.show()"
   ]
  },
  {
   "cell_type": "markdown",
   "metadata": {},
   "source": [
    "# 汇总画图beeswarm"
   ]
  },
  {
   "cell_type": "code",
   "execution_count": null,
   "metadata": {
    "scrolled": false
   },
   "outputs": [],
   "source": [
    "fig = plt.figure(figsize=(20,10),dpi=600)\n",
    "\n",
    "# fig,axes=plt.subplots(1,4,sharex=True,sharey=True)\n",
    "ax0 = fig.add_subplot(151)\n",
    "# ax0.title.set_text('Class 2 - Best ')\n",
    "shap.summary_plot(clf_shap_values[1], X_test,cmap=plt.get_cmap(\"viridis\"),alpha=0.5,sort=None,color_bar=None,show=False,feature_names=None)\n",
    "ax0.set_xlabel(r'DT', fontsize=11)\n",
    "plt.grid()\n",
    "\n",
    "ax1 = fig.add_subplot(152)\n",
    "# ax1.title.set_text('Class 1 - Premium')\n",
    "shap.summary_plot(RF_shap_values[1], X_test,cmap=plt.get_cmap(\"viridis\"),alpha=0.5,sort=None,color_bar=None,show=False)\n",
    "ax1.set_xlabel(r'RF', fontsize=11)\n",
    "ax1.set(yticklabels=[])  # remove the tick labels\n",
    "ax1.tick_params(left=False)  # remove the ticks\n",
    "plt.grid()\n",
    "ax2 = fig.add_subplot(153)\n",
    "# ax2.title.set_text('Class 0 - Value')\n",
    "shap.summary_plot(LGB_shap_values[1], X_test,cmap=plt.get_cmap(\"viridis\"),alpha=0.5,sort=None,color_bar=None,show=False)\n",
    "ax2.set_xlabel(r'LGB', fontsize=11)\n",
    "ax2.set(yticklabels=[])  # remove the tick labels\n",
    "ax2.tick_params(left=False)  # remove the ticks\n",
    "plt.grid()\n",
    "ax3 = fig.add_subplot(154)\n",
    "# ax3.title.set_text('Class 0 - Value')\n",
    "shap.summary_plot(CGB_shap_values, X_test,cmap=plt.get_cmap(\"viridis\"),alpha=0.5,sort=None,color_bar=None,show=False)\n",
    "ax3.set_xlabel(r'CGB', fontsize=11)\n",
    "ax3.set(yticklabels=[])  # remove the tick labels\n",
    "ax3.tick_params(left=False)  # remove the ticks\n",
    "plt.grid()\n",
    "ax4 = fig.add_subplot(155)\n",
    "# ax4.title.set_text('Class 0 - Value')\n",
    "shap.summary_plot(gam_shap_values, X_test,cmap=plt.get_cmap(\"viridis\"),alpha=0.5,sort=None,color_bar=None,show=False)\n",
    "ax4.set_xlabel(r'GAM', fontsize=11)\n",
    "ax4.set(yticklabels=[])  # remove the tick labels\n",
    "ax4.tick_params(left=False)  # remove the ticks\n",
    "plt.grid()\n",
    "\n",
    "plt.tight_layout() # You can also use plt.tight_layout() instead of using plt.subplots_adjust() to add space between plots\n",
    "# plt.title('SHAP global interpretation with the four models using a summary plot within 2°resolutions', fontsize =24)\n",
    "\n",
    "plt.show()"
   ]
  },
  {
   "cell_type": "markdown",
   "metadata": {},
   "source": [
    "# bar图汇总"
   ]
  },
  {
   "cell_type": "code",
   "execution_count": null,
   "metadata": {},
   "outputs": [],
   "source": [
    "# shap_values = [np.average(abs(clf_shap_values[1]), axis=0),\n",
    "#                    np.average(abs(RF_shap_values[1]), axis=0),\n",
    "#                    np.average(abs(LGB_shap_values[1]), axis=0),\n",
    "#                    np.average(abs(CGB_shap_values), axis=0),\n",
    "#                    ]\n",
    "# shap_values[2]\n",
    "# for i in range(4):\n",
    "#     importances = pd.DataFrame(data={\n",
    "#     'Attribute': X.columns,\n",
    "#     'Importance':shap_values[i]\n",
    "#     #'Importance': np.abs(model.coef_[0])#绝对值表示重要性\n",
    "#     })\n",
    "#     # 导出至Excel\n",
    "#     writer = pd.ExcelWriter(f'./shap_values_bar/{i}features2x2.xlsx')\n",
    "#     # ‘page_1’是写入excel的sheet名\n",
    "#     importances.to_excel(writer, f'page_1',float_format='%.5f')\n",
    "#     writer.save()\n",
    "\n",
    "#     writer.close()"
   ]
  },
  {
   "cell_type": "code",
   "execution_count": null,
   "metadata": {},
   "outputs": [],
   "source": [
    "# gam是4,123代表不同的模型    \n",
    "importances = pd.DataFrame(data={\n",
    "'Attribute': X.columns,\n",
    "'Importance':np.average(abs(gam_shap_values), axis=0),\n",
    "#'Importance': np.abs(model.coef_[0])#绝对值表示重要性\n",
    "})\n",
    "# 导出至Excel\n",
    "writer = pd.ExcelWriter(f'./shap_values_bar/{4}features2x2.xlsx')\n",
    "# ‘page_1’是写入excel的sheet名\n",
    "importances.to_excel(writer, f'page_1',float_format='%.5f')\n",
    "writer.save()\n",
    "    \n",
    "writer.close()"
   ]
  },
  {
   "cell_type": "code",
   "execution_count": null,
   "metadata": {},
   "outputs": [],
   "source": []
  }
 ],
 "metadata": {
  "colab": {
   "name": "WallDataAnalysis.ipynb",
   "provenance": [],
   "version": "0.3.2"
  },
  "kernelspec": {
   "display_name": "Python 3 (ipykernel)",
   "language": "python",
   "name": "python3"
  },
  "language_info": {
   "codemirror_mode": {
    "name": "ipython",
    "version": 3
   },
   "file_extension": ".py",
   "mimetype": "text/x-python",
   "name": "python",
   "nbconvert_exporter": "python",
   "pygments_lexer": "ipython3",
   "version": "3.9.12"
  }
 },
 "nbformat": 4,
 "nbformat_minor": 1
}
